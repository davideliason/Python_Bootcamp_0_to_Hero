{
 "cells": [
  {
   "cell_type": "markdown",
   "metadata": {},
   "source": [
    "if case1:\n",
    "    perform action1\n",
    "elif case2:\n",
    "    perform action2\n",
    "else: \n",
    "    perform action3"
   ]
  },
  {
   "cell_type": "code",
   "execution_count": 5,
   "metadata": {},
   "outputs": [
    {
     "name": "stdout",
     "output_type": "stream",
     "text": [
      " not true\n"
     ]
    }
   ],
   "source": [
    "x = False\n",
    "if x:\n",
    "    print(\" x was true\")\n",
    "else:\n",
    "    print(\" not true\")"
   ]
  },
  {
   "cell_type": "code",
   "execution_count": 6,
   "metadata": {},
   "outputs": [
    {
     "name": "stdout",
     "output_type": "stream",
     "text": [
      "spot on 100\n"
     ]
    }
   ],
   "source": [
    "num = 100\n",
    "if num < 100:\n",
    "    print(\"less than 100\")\n",
    "elif num == 100:\n",
    "    print(\"spot on 100\")\n",
    "else:\n",
    "    print(\"over 100\")"
   ]
  },
  {
   "cell_type": "code",
   "execution_count": 7,
   "metadata": {},
   "outputs": [
    {
     "name": "stdout",
     "output_type": "stream",
     "text": [
      "1\n",
      "2\n",
      "3\n",
      "4\n",
      "5\n",
      "6\n"
     ]
    }
   ],
   "source": [
    "mylist = [1,2,3,4,5,6]\n",
    "for num in mylist:\n",
    "    print(num)"
   ]
  },
  {
   "cell_type": "code",
   "execution_count": 8,
   "metadata": {},
   "outputs": [
    {
     "name": "stdout",
     "output_type": "stream",
     "text": [
      "not even\n",
      "2\n",
      "not even\n",
      "4\n",
      "not even\n",
      "6\n",
      "not even\n"
     ]
    }
   ],
   "source": [
    "mylist2 = [1,2,3,4,5,6,7]\n",
    "for num in mylist2:\n",
    "    if num % 2 == 0: # check for even\n",
    "        print(num)\n",
    "    else:\n",
    "        print(\"not even\")"
   ]
  },
  {
   "cell_type": "code",
   "execution_count": 9,
   "metadata": {},
   "outputs": [
    {
     "name": "stdout",
     "output_type": "stream",
     "text": [
      "that is not even\n",
      "that is not even\n",
      "that is not even\n",
      "that is not even\n",
      "that is not even\n",
      "20\n"
     ]
    }
   ],
   "source": [
    "mylist = [1,2,3,4,5,6,7,8,9.10]\n",
    "mylist_sum = 0\n",
    "\n",
    "for num in mylist:\n",
    "    if num % 2 == 0:\n",
    "        mylist_sum = mylist_sum + num\n",
    "    else:\n",
    "        print(\"that is not even\")\n",
    "\n",
    "print(mylist_sum)"
   ]
  },
  {
   "cell_type": "code",
   "execution_count": 10,
   "metadata": {},
   "outputs": [
    {
     "name": "stdout",
     "output_type": "stream",
     "text": [
      "1\n",
      "3\n"
     ]
    }
   ],
   "source": [
    "# tuple unpacking\n",
    "for a,b in [(1,2),(3,4)]:\n",
    "    print(a)"
   ]
  },
  {
   "cell_type": "code",
   "execution_count": 13,
   "metadata": {},
   "outputs": [
    {
     "name": "stdout",
     "output_type": "stream",
     "text": [
      "book\n",
      "book2\n"
     ]
    }
   ],
   "source": [
    "for item in {\"book\":\"Dune\", \"book2\": \"Dune2\"}:\n",
    "    print(item)"
   ]
  },
  {
   "cell_type": "code",
   "execution_count": 16,
   "metadata": {},
   "outputs": [
    {
     "name": "stdout",
     "output_type": "stream",
     "text": [
      "Dune\n",
      "book1\n",
      "Big Blue\n",
      "book2\n"
     ]
    }
   ],
   "source": [
    "library = {\"book1\":\"Dune\", \"book2\":\"Big Blue\"}\n",
    "for key,value in library.items():\n",
    "    print(value)\n",
    "    print(key)"
   ]
  },
  {
   "cell_type": "markdown",
   "metadata": {},
   "source": [
    "<h3> While Loops </h3>"
   ]
  },
  {
   "cell_type": "code",
   "execution_count": 19,
   "metadata": {},
   "outputs": [
    {
     "name": "stdout",
     "output_type": "stream",
     "text": [
      "ok\n",
      "0\n",
      "ok\n",
      "1\n",
      "ok\n",
      "2\n",
      "ok\n",
      "3\n",
      "ok\n",
      "4\n",
      "ok\n",
      "5\n",
      "ok\n",
      "6\n",
      "ok\n",
      "7\n",
      "ok\n",
      "8\n",
      "ok\n",
      "9\n"
     ]
    }
   ],
   "source": [
    "x = 0\n",
    "while x < 10:\n",
    "    print(\"ok\")\n",
    "    print(x)\n",
    "    x+=1"
   ]
  },
  {
   "cell_type": "markdown",
   "metadata": {},
   "source": [
    "<h3> Continue, Break, Pass </h3>"
   ]
  },
  {
   "cell_type": "code",
   "execution_count": 4,
   "metadata": {},
   "outputs": [
    {
     "name": "stdout",
     "output_type": "stream",
     "text": [
      "x is now:  0\n",
      "x is now:  1\n",
      "x is now:  2\n",
      "x is now:  3\n",
      "x is now:  4\n"
     ]
    }
   ],
   "source": [
    "x = 0\n",
    "while x < 10:\n",
    "    print(\"x is now: \",x)\n",
    "    x+=1\n",
    "    if x == 5:\n",
    "        break\n",
    "    else:\n",
    "        continue\n",
    "    "
   ]
  },
  {
   "cell_type": "markdown",
   "metadata": {},
   "source": [
    "<h3> Operators </h3>"
   ]
  },
  {
   "cell_type": "code",
   "execution_count": 5,
   "metadata": {},
   "outputs": [
    {
     "data": {
      "text/plain": [
       "[0, 1, 2, 3, 4, 5, 6, 7, 8, 9, 10]"
      ]
     },
     "execution_count": 5,
     "metadata": {},
     "output_type": "execute_result"
    }
   ],
   "source": [
    "list(range(0,11))"
   ]
  },
  {
   "cell_type": "code",
   "execution_count": 6,
   "metadata": {},
   "outputs": [
    {
     "data": {
      "text/plain": [
       "[0, 2, 4, 6, 8]"
      ]
     },
     "execution_count": 6,
     "metadata": {},
     "output_type": "execute_result"
    }
   ],
   "source": [
    "list(range(0,10,2))"
   ]
  },
  {
   "cell_type": "code",
   "execution_count": 8,
   "metadata": {},
   "outputs": [
    {
     "name": "stdout",
     "output_type": "stream",
     "text": [
      "0\n",
      "h\n",
      "1\n",
      "e\n",
      "2\n",
      "l\n",
      "3\n",
      "l\n",
      "4\n",
      "o\n"
     ]
    }
   ],
   "source": [
    "for num,let in enumerate('hello'):\n",
    "    print(num)\n",
    "    print(let)"
   ]
  },
  {
   "cell_type": "code",
   "execution_count": null,
   "metadata": {},
   "outputs": [],
   "source": [
    "for num,let in enumerate('hello there'):\n",
    "    print(\"At index {} there is the letter {}\".format(num,let))"
   ]
  }
 ],
 "metadata": {
  "kernelspec": {
   "display_name": "Python 3",
   "language": "python",
   "name": "python3"
  },
  "language_info": {
   "codemirror_mode": {
    "name": "ipython",
    "version": 3
   },
   "file_extension": ".py",
   "mimetype": "text/x-python",
   "name": "python",
   "nbconvert_exporter": "python",
   "pygments_lexer": "ipython3",
   "version": "3.8.5"
  }
 },
 "nbformat": 4,
 "nbformat_minor": 4
}
